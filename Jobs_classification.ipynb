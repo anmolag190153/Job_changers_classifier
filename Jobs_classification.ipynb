{
  "nbformat": 4,
  "nbformat_minor": 0,
  "metadata": {
    "colab": {
      "name": "Jobs_classification",
      "provenance": [],
      "authorship_tag": "ABX9TyPL/9p5fERbdxv7uhUo2Tj9",
      "include_colab_link": true
    },
    "kernelspec": {
      "name": "python3",
      "display_name": "Python 3"
    },
    "language_info": {
      "name": "python"
    }
  },
  "cells": [
    {
      "cell_type": "markdown",
      "metadata": {
        "id": "view-in-github",
        "colab_type": "text"
      },
      "source": [
        "<a href=\"https://colab.research.google.com/github/anmolag190153/Job_changers_classifier/blob/main/Jobs_classification.ipynb\" target=\"_parent\"><img src=\"https://colab.research.google.com/assets/colab-badge.svg\" alt=\"Open In Colab\"/></a>"
      ]
    },
    {
      "cell_type": "code",
      "metadata": {
        "colab": {
          "base_uri": "https://localhost:8080/"
        },
        "id": "OUoYAny5ppUN",
        "outputId": "0f882ff5-5e75-407e-febb-80af70125248"
      },
      "source": [
        "import numpy as np\n",
        "import pandas as pd\n",
        "import matplotlib.pyplot as plt\n",
        "\n",
        "import os\n",
        "from google.colab import drive\n",
        "drive.mount('/content/drive')"
      ],
      "execution_count": 1,
      "outputs": [
        {
          "output_type": "stream",
          "text": [
            "Mounted at /content/drive\n"
          ],
          "name": "stdout"
        }
      ]
    },
    {
      "cell_type": "code",
      "metadata": {
        "colab": {
          "base_uri": "https://localhost:8080/",
          "height": 257
        },
        "id": "h3pkajINrsIQ",
        "outputId": "eacad3cc-4503-40a5-c928-71e1724204d8"
      },
      "source": [
        "train=pd.read_csv('/content/drive/My Drive/Jobs_dataset/aug_train.csv')\n",
        "train.head()"
      ],
      "execution_count": 2,
      "outputs": [
        {
          "output_type": "execute_result",
          "data": {
            "text/html": [
              "<div>\n",
              "<style scoped>\n",
              "    .dataframe tbody tr th:only-of-type {\n",
              "        vertical-align: middle;\n",
              "    }\n",
              "\n",
              "    .dataframe tbody tr th {\n",
              "        vertical-align: top;\n",
              "    }\n",
              "\n",
              "    .dataframe thead th {\n",
              "        text-align: right;\n",
              "    }\n",
              "</style>\n",
              "<table border=\"1\" class=\"dataframe\">\n",
              "  <thead>\n",
              "    <tr style=\"text-align: right;\">\n",
              "      <th></th>\n",
              "      <th>enrollee_id</th>\n",
              "      <th>city</th>\n",
              "      <th>city_development_index</th>\n",
              "      <th>gender</th>\n",
              "      <th>relevent_experience</th>\n",
              "      <th>enrolled_university</th>\n",
              "      <th>education_level</th>\n",
              "      <th>major_discipline</th>\n",
              "      <th>experience</th>\n",
              "      <th>company_size</th>\n",
              "      <th>company_type</th>\n",
              "      <th>last_new_job</th>\n",
              "      <th>training_hours</th>\n",
              "      <th>target</th>\n",
              "    </tr>\n",
              "  </thead>\n",
              "  <tbody>\n",
              "    <tr>\n",
              "      <th>0</th>\n",
              "      <td>8949</td>\n",
              "      <td>city_103</td>\n",
              "      <td>0.920</td>\n",
              "      <td>Male</td>\n",
              "      <td>Has relevent experience</td>\n",
              "      <td>no_enrollment</td>\n",
              "      <td>Graduate</td>\n",
              "      <td>STEM</td>\n",
              "      <td>&gt;20</td>\n",
              "      <td>NaN</td>\n",
              "      <td>NaN</td>\n",
              "      <td>1</td>\n",
              "      <td>36</td>\n",
              "      <td>1.0</td>\n",
              "    </tr>\n",
              "    <tr>\n",
              "      <th>1</th>\n",
              "      <td>29725</td>\n",
              "      <td>city_40</td>\n",
              "      <td>0.776</td>\n",
              "      <td>Male</td>\n",
              "      <td>No relevent experience</td>\n",
              "      <td>no_enrollment</td>\n",
              "      <td>Graduate</td>\n",
              "      <td>STEM</td>\n",
              "      <td>15</td>\n",
              "      <td>50-99</td>\n",
              "      <td>Pvt Ltd</td>\n",
              "      <td>&gt;4</td>\n",
              "      <td>47</td>\n",
              "      <td>0.0</td>\n",
              "    </tr>\n",
              "    <tr>\n",
              "      <th>2</th>\n",
              "      <td>11561</td>\n",
              "      <td>city_21</td>\n",
              "      <td>0.624</td>\n",
              "      <td>NaN</td>\n",
              "      <td>No relevent experience</td>\n",
              "      <td>Full time course</td>\n",
              "      <td>Graduate</td>\n",
              "      <td>STEM</td>\n",
              "      <td>5</td>\n",
              "      <td>NaN</td>\n",
              "      <td>NaN</td>\n",
              "      <td>never</td>\n",
              "      <td>83</td>\n",
              "      <td>0.0</td>\n",
              "    </tr>\n",
              "    <tr>\n",
              "      <th>3</th>\n",
              "      <td>33241</td>\n",
              "      <td>city_115</td>\n",
              "      <td>0.789</td>\n",
              "      <td>NaN</td>\n",
              "      <td>No relevent experience</td>\n",
              "      <td>NaN</td>\n",
              "      <td>Graduate</td>\n",
              "      <td>Business Degree</td>\n",
              "      <td>&lt;1</td>\n",
              "      <td>NaN</td>\n",
              "      <td>Pvt Ltd</td>\n",
              "      <td>never</td>\n",
              "      <td>52</td>\n",
              "      <td>1.0</td>\n",
              "    </tr>\n",
              "    <tr>\n",
              "      <th>4</th>\n",
              "      <td>666</td>\n",
              "      <td>city_162</td>\n",
              "      <td>0.767</td>\n",
              "      <td>Male</td>\n",
              "      <td>Has relevent experience</td>\n",
              "      <td>no_enrollment</td>\n",
              "      <td>Masters</td>\n",
              "      <td>STEM</td>\n",
              "      <td>&gt;20</td>\n",
              "      <td>50-99</td>\n",
              "      <td>Funded Startup</td>\n",
              "      <td>4</td>\n",
              "      <td>8</td>\n",
              "      <td>0.0</td>\n",
              "    </tr>\n",
              "  </tbody>\n",
              "</table>\n",
              "</div>"
            ],
            "text/plain": [
              "   enrollee_id      city  ...  training_hours target\n",
              "0         8949  city_103  ...              36    1.0\n",
              "1        29725   city_40  ...              47    0.0\n",
              "2        11561   city_21  ...              83    0.0\n",
              "3        33241  city_115  ...              52    1.0\n",
              "4          666  city_162  ...               8    0.0\n",
              "\n",
              "[5 rows x 14 columns]"
            ]
          },
          "metadata": {
            "tags": []
          },
          "execution_count": 2
        }
      ]
    },
    {
      "cell_type": "code",
      "metadata": {
        "colab": {
          "base_uri": "https://localhost:8080/"
        },
        "id": "uZ2r988BsX4J",
        "outputId": "5d50f445-e26a-4599-a904-c38287a3c865"
      },
      "source": [
        "train.shape"
      ],
      "execution_count": 3,
      "outputs": [
        {
          "output_type": "execute_result",
          "data": {
            "text/plain": [
              "(19158, 14)"
            ]
          },
          "metadata": {
            "tags": []
          },
          "execution_count": 3
        }
      ]
    },
    {
      "cell_type": "code",
      "metadata": {
        "colab": {
          "base_uri": "https://localhost:8080/"
        },
        "id": "8395t7S8sfdi",
        "outputId": "a66fada0-c58d-4e39-eb85-b5c11a4d89e7"
      },
      "source": [
        "print(train.isnull().sum())"
      ],
      "execution_count": 7,
      "outputs": [
        {
          "output_type": "stream",
          "text": [
            "enrollee_id                  0\n",
            "city                         0\n",
            "city_development_index       0\n",
            "gender                    4508\n",
            "relevent_experience          0\n",
            "enrolled_university        386\n",
            "education_level            460\n",
            "major_discipline          2813\n",
            "experience                  65\n",
            "company_size              5938\n",
            "company_type              6140\n",
            "last_new_job               423\n",
            "training_hours               0\n",
            "target                       0\n",
            "dtype: int64\n"
          ],
          "name": "stdout"
        }
      ]
    },
    {
      "cell_type": "code",
      "metadata": {
        "id": "kwG-TcM7skky"
      },
      "source": [
        "import seaborn as sns\n"
      ],
      "execution_count": 8,
      "outputs": []
    },
    {
      "cell_type": "code",
      "metadata": {
        "colab": {
          "base_uri": "https://localhost:8080/"
        },
        "id": "dU5U7S4KtfzE",
        "outputId": "fb312ac2-7242-47bb-fb02-e8397c8000b5"
      },
      "source": [
        "train['city'].value_counts()"
      ],
      "execution_count": 10,
      "outputs": [
        {
          "output_type": "execute_result",
          "data": {
            "text/plain": [
              "city_103    4355\n",
              "city_21     2702\n",
              "city_16     1533\n",
              "city_114    1336\n",
              "city_160     845\n",
              "            ... \n",
              "city_121       3\n",
              "city_129       3\n",
              "city_111       3\n",
              "city_171       1\n",
              "city_140       1\n",
              "Name: city, Length: 123, dtype: int64"
            ]
          },
          "metadata": {
            "tags": []
          },
          "execution_count": 10
        }
      ]
    },
    {
      "cell_type": "code",
      "metadata": {
        "colab": {
          "base_uri": "https://localhost:8080/",
          "height": 491
        },
        "id": "EGdAclihtg0h",
        "outputId": "68a8f7d4-2583-41af-fb79-6a8db4d60738"
      },
      "source": [
        "plt.figure(figsize=(10,7))\n",
        "#print(train['city'].value_counts()[:30].sort_values(ascending=True))\n",
        "train['city'].value_counts()[:30].sort_values(ascending=True).plot(kind='bar')\n",
        "plt.title('Value Counts of Cities')\n",
        "plt.xlabel('Frequency')\n",
        "plt.ylabel('City Name');"
      ],
      "execution_count": 15,
      "outputs": [
        {
          "output_type": "display_data",
          "data": {
            "image/png": "[encoded data removed]",
            "text/plain": [
              "<Figure size 720x504 with 1 Axes>"
            ]
          },
          "metadata": {
            "tags": [],
            "needs_background": "light"
          }
        }
      ]
    },
    {
      "cell_type": "code",
      "metadata": {
        "colab": {
          "base_uri": "https://localhost:8080/"
        },
        "id": "kenwBNQnuCsd",
        "outputId": "8c2ac8b9-2402-4620-e197-a3030c2bb249"
      },
      "source": [
        "train['gender'].value_counts()"
      ],
      "execution_count": 16,
      "outputs": [
        {
          "output_type": "execute_result",
          "data": {
            "text/plain": [
              "Male      13221\n",
              "Female     1238\n",
              "Other       191\n",
              "Name: gender, dtype: int64"
            ]
          },
          "metadata": {
            "tags": []
          },
          "execution_count": 16
        }
      ]
    },
    {
      "cell_type": "code",
      "metadata": {
        "id": "qSLY-Uz-u3ns"
      },
      "source": [
        "train['gender'].fillna('na',inplace=True)"
      ],
      "execution_count": 18,
      "outputs": []
    },
    {
      "cell_type": "code",
      "metadata": {
        "colab": {
          "base_uri": "https://localhost:8080/",
          "height": 458
        },
        "id": "CypRsz3hu-c1",
        "outputId": "1a69d9ad-8205-40eb-9bb0-556a1373b088"
      },
      "source": [
        "plt.figure(figsize=(15,7))\n",
        "\n",
        "plt.subplot(121)\n",
        "sns.countplot(data=train, x='gender')\n",
        "plt.title('Count of Gender')\n",
        "plt.xlabel('Gender')\n",
        "plt.ylabel('Frequency');\n",
        "\n",
        "plt.subplot(122)\n",
        "sns.barplot(data=train, x='gender', y='target')\n",
        "plt.title('Gender Proportion of Job Change')\n",
        "plt.xlabel('Gender')\n",
        "plt.ylabel('Proportion');"
      ],
      "execution_count": 20,
      "outputs": [
        {
          "output_type": "display_data",
          "data": {
            "image/png": "[encoded data removed]",
            "text/plain": [
              "<Figure size 1080x504 with 2 Axes>"
            ]
          },
          "metadata": {
            "tags": [],
            "needs_background": "light"
          }
        }
      ]
    },
    {
      "cell_type": "code",
      "metadata": {
        "colab": {
          "base_uri": "https://localhost:8080/",
          "height": 203
        },
        "id": "mTe_wRywyFdv",
        "outputId": "3b61a193-013a-4f65-a0a9-73160450e158"
      },
      "source": [
        "gender_table = pd.crosstab(train['gender'], train['target'])\n",
        "gender_table"
      ],
      "execution_count": 21,
      "outputs": [
        {
          "output_type": "execute_result",
          "data": {
            "text/html": [
              "<div>\n",
              "<style scoped>\n",
              "    .dataframe tbody tr th:only-of-type {\n",
              "        vertical-align: middle;\n",
              "    }\n",
              "\n",
              "    .dataframe tbody tr th {\n",
              "        vertical-align: top;\n",
              "    }\n",
              "\n",
              "    .dataframe thead th {\n",
              "        text-align: right;\n",
              "    }\n",
              "</style>\n",
              "<table border=\"1\" class=\"dataframe\">\n",
              "  <thead>\n",
              "    <tr style=\"text-align: right;\">\n",
              "      <th>target</th>\n",
              "      <th>0.0</th>\n",
              "      <th>1.0</th>\n",
              "    </tr>\n",
              "    <tr>\n",
              "      <th>gender</th>\n",
              "      <th></th>\n",
              "      <th></th>\n",
              "    </tr>\n",
              "  </thead>\n",
              "  <tbody>\n",
              "    <tr>\n",
              "      <th>Female</th>\n",
              "      <td>912</td>\n",
              "      <td>326</td>\n",
              "    </tr>\n",
              "    <tr>\n",
              "      <th>Male</th>\n",
              "      <td>10209</td>\n",
              "      <td>3012</td>\n",
              "    </tr>\n",
              "    <tr>\n",
              "      <th>Other</th>\n",
              "      <td>141</td>\n",
              "      <td>50</td>\n",
              "    </tr>\n",
              "    <tr>\n",
              "      <th>na</th>\n",
              "      <td>3119</td>\n",
              "      <td>1389</td>\n",
              "    </tr>\n",
              "  </tbody>\n",
              "</table>\n",
              "</div>"
            ],
            "text/plain": [
              "target    0.0   1.0\n",
              "gender             \n",
              "Female    912   326\n",
              "Male    10209  3012\n",
              "Other     141    50\n",
              "na       3119  1389"
            ]
          },
          "metadata": {
            "tags": []
          },
          "execution_count": 21
        }
      ]
    },
    {
      "cell_type": "code",
      "metadata": {
        "colab": {
          "base_uri": "https://localhost:8080/"
        },
        "id": "FaY1U2eFyd15",
        "outputId": "8f23181f-3cef-4a74-e99f-ebb77499fd72"
      },
      "source": [
        "from scipy import stats\n",
        "from scipy.stats import chi2_contingency\n",
        "\n",
        "_ , p, _, _ = chi2_contingency(gender_table)\n",
        "\n",
        "# interpret p-value \n",
        "alpha = 0.05\n",
        "print(\"p value is \" + str(p)) \n",
        "if p <= alpha: \n",
        "    print('Dependent (reject H0)') \n",
        "else: \n",
        "    print('Independent (H0 holds true)') "
      ],
      "execution_count": 23,
      "outputs": [
        {
          "output_type": "stream",
          "text": [
            "p value is 2.83304872204523e-25\n",
            "Dependent (reject H0)\n"
          ],
          "name": "stdout"
        }
      ]
    },
    {
      "cell_type": "code",
      "metadata": {
        "colab": {
          "base_uri": "https://localhost:8080/"
        },
        "id": "4QVHoug7ysmc",
        "outputId": "b62565e1-21d8-4385-bb1c-62367132e4fd"
      },
      "source": [
        "print(train['relevent_experience'].value_counts())"
      ],
      "execution_count": 24,
      "outputs": [
        {
          "output_type": "stream",
          "text": [
            "Has relevent experience    13792\n",
            "No relevent experience      5366\n",
            "Name: relevent_experience, dtype: int64\n"
          ],
          "name": "stdout"
        }
      ]
    },
    {
      "cell_type": "code",
      "metadata": {
        "id": "lG9qikyYzCbv"
      },
      "source": [
        "train['relevent_experience'] = train['relevent_experience'].replace('Has relevent experience', 1)\n",
        "train['relevent_experience'] = train['relevent_experience'].replace('No relevent experience', 0)"
      ],
      "execution_count": 25,
      "outputs": []
    },
    {
      "cell_type": "code",
      "metadata": {
        "colab": {
          "base_uri": "https://localhost:8080/",
          "height": 458
        },
        "id": "yoKLtsPMzRbT",
        "outputId": "6c6388e6-915f-48a5-d593-5fbb3e0d87ec"
      },
      "source": [
        "plt.figure(figsize=(15,7))\n",
        "\n",
        "plt.subplot(121)\n",
        "sns.countplot(data=train, x='relevent_experience')\n",
        "plt.title('Relevant Experience Counts')\n",
        "plt.xlabel('Has Relevant Experience')\n",
        "plt.ylabel('Count');\n",
        "\n",
        "plt.subplot(122)\n",
        "sns.barplot(data=train, x='relevent_experience', y='target')\n",
        "plt.title('Relevant Experience Proportion of Job Change')\n",
        "plt.xlabel('Has Relevant Experience')\n",
        "plt.ylabel('Proportion');"
      ],
      "execution_count": 26,
      "outputs": [
        {
          "output_type": "display_data",
          "data": {
            "image/png": "[encoded data removed]",
            "text/plain": [
              "<Figure size 1080x504 with 2 Axes>"
            ]
          },
          "metadata": {
            "tags": [],
            "needs_background": "light"
          }
        }
      ]
    },
    {
      "cell_type": "code",
      "metadata": {
        "colab": {
          "base_uri": "https://localhost:8080/"
        },
        "id": "UhH1Z48yzaUh",
        "outputId": "65d351b5-41d6-4c9a-c2c5-2a1a6abe34fe"
      },
      "source": [
        "exp_table = pd.crosstab(train['relevent_experience'], train['target'])\n",
        "\n",
        "_, p, _, _ = chi2_contingency(exp_table)\n",
        "\n",
        "# interpret p-value \n",
        "alpha = 0.05\n",
        "print(\"p value is \" + str(p)) \n",
        "if p <= alpha: \n",
        "    print('Dependent (reject H0)') \n",
        "else: \n",
        "    print('Independent (H0 holds true)') "
      ],
      "execution_count": 29,
      "outputs": [
        {
          "output_type": "stream",
          "text": [
            "p value is 1.5006628411178982e-70\n",
            "Dependent (reject H0)\n"
          ],
          "name": "stdout"
        }
      ]
    },
    {
      "cell_type": "code",
      "metadata": {
        "colab": {
          "base_uri": "https://localhost:8080/"
        },
        "id": "EYLjzfBtz1gU",
        "outputId": "c4bb40bb-d4d5-4874-b276-6f544991475d"
      },
      "source": [
        "train['enrolled_university'].value_counts()"
      ],
      "execution_count": 30,
      "outputs": [
        {
          "output_type": "execute_result",
          "data": {
            "text/plain": [
              "no_enrollment       13817\n",
              "Full time course     3757\n",
              "Part time course     1198\n",
              "Name: enrolled_university, dtype: int64"
            ]
          },
          "metadata": {
            "tags": []
          },
          "execution_count": 30
        }
      ]
    },
    {
      "cell_type": "code",
      "metadata": {
        "colab": {
          "base_uri": "https://localhost:8080/"
        },
        "id": "31uw8JEF0EXG",
        "outputId": "c18f5712-d74e-409f-864a-8c432f053bac"
      },
      "source": [
        "train['enrolled_university'].fillna('na', inplace=True)\n",
        "train['enrolled_university'].value_counts()"
      ],
      "execution_count": 31,
      "outputs": [
        {
          "output_type": "execute_result",
          "data": {
            "text/plain": [
              "no_enrollment       13817\n",
              "Full time course     3757\n",
              "Part time course     1198\n",
              "na                    386\n",
              "Name: enrolled_university, dtype: int64"
            ]
          },
          "metadata": {
            "tags": []
          },
          "execution_count": 31
        }
      ]
    },
    {
      "cell_type": "code",
      "metadata": {
        "colab": {
          "base_uri": "https://localhost:8080/",
          "height": 459
        },
        "id": "1-3xnBze0Jax",
        "outputId": "b853dd24-5743-45cf-c231-a9ac46f92c03"
      },
      "source": [
        "plt.figure(figsize=(15,7))\n",
        "\n",
        "plt.subplot(121)\n",
        "sns.countplot(data=train, x='enrolled_university')\n",
        "plt.title('University Course Counts')\n",
        "plt.xlabel('University Enrollment')\n",
        "plt.ylabel('Count');\n",
        "\n",
        "\n",
        "plt.subplot(122)\n",
        "sns.barplot(data=train, x='enrolled_university', y='target')\n",
        "plt.title('University Course Proportion of Job Change')\n",
        "plt.xlabel('University Enrollment')\n",
        "plt.ylabel('Proportion');"
      ],
      "execution_count": 32,
      "outputs": [
        {
          "output_type": "display_data",
          "data": {
            "image/png": "[encoded data removed]",
            "text/plain": [
              "<Figure size 1080x504 with 2 Axes>"
            ]
          },
          "metadata": {
            "tags": [],
            "needs_background": "light"
          }
        }
      ]
    },
    {
      "cell_type": "code",
      "metadata": {
        "colab": {
          "base_uri": "https://localhost:8080/"
        },
        "id": "GW4rYGbo0RAw",
        "outputId": "946e59db-183d-4988-89aa-3881aab4527b"
      },
      "source": [
        "enrolled_table = pd.crosstab(train['enrolled_university'],train['target'])\n",
        "_, p, _, _ = chi2_contingency(enrolled_table)\n",
        "\n",
        "# interpret p-value \n",
        "alpha = 0.05\n",
        "print(\"p value is \" + str(p)) \n",
        "if p <= alpha: \n",
        "    print('Dependent (reject H0)') \n",
        "else: \n",
        "    print('Independent (H0 holds true)') "
      ],
      "execution_count": 34,
      "outputs": [
        {
          "output_type": "stream",
          "text": [
            "p value is 3.809312475442323e-100\n",
            "Dependent (reject H0)\n"
          ],
          "name": "stdout"
        }
      ]
    },
    {
      "cell_type": "code",
      "metadata": {
        "colab": {
          "base_uri": "https://localhost:8080/"
        },
        "id": "ejnyhqVR0be1",
        "outputId": "f3ea1a9f-803c-4056-bc92-72fc157913ff"
      },
      "source": [
        "train['education_level'].value_counts()"
      ],
      "execution_count": 36,
      "outputs": [
        {
          "output_type": "execute_result",
          "data": {
            "text/plain": [
              "Graduate          11598\n",
              "Masters            4361\n",
              "High School        2017\n",
              "Phd                 414\n",
              "Primary School      308\n",
              "Name: education_level, dtype: int64"
            ]
          },
          "metadata": {
            "tags": []
          },
          "execution_count": 36
        }
      ]
    },
    {
      "cell_type": "code",
      "metadata": {
        "colab": {
          "base_uri": "https://localhost:8080/"
        },
        "id": "P0kPR3pg0pqI",
        "outputId": "6683681d-9b3e-46ac-d4ed-e185d349e88f"
      },
      "source": [
        "train['education_level'].fillna('na', inplace=True)\n",
        "train['education_level'].value_counts()"
      ],
      "execution_count": 37,
      "outputs": [
        {
          "output_type": "execute_result",
          "data": {
            "text/plain": [
              "Graduate          11598\n",
              "Masters            4361\n",
              "High School        2017\n",
              "na                  460\n",
              "Phd                 414\n",
              "Primary School      308\n",
              "Name: education_level, dtype: int64"
            ]
          },
          "metadata": {
            "tags": []
          },
          "execution_count": 37
        }
      ]
    },
    {
      "cell_type": "code",
      "metadata": {
        "colab": {
          "base_uri": "https://localhost:8080/",
          "height": 458
        },
        "id": "3A9x98E60zlK",
        "outputId": "ba4c9842-5ea5-440b-8c6d-041cdb86f177"
      },
      "source": [
        "plt.figure(figsize=(15,7))\n",
        "\n",
        "plt.subplot(121)\n",
        "sns.countplot(data=train, x='education_level')\n",
        "plt.title('Education Level Counts')\n",
        "plt.xlabel('Education Level')\n",
        "plt.ylabel('Count');\n",
        "\n",
        "\n",
        "plt.subplot(122)\n",
        "sns.barplot(data=train, x='education_level', y='target')\n",
        "plt.title(' Education level Proportion of Job Change')\n",
        "plt.xlabel('Education Level')\n",
        "plt.ylabel('Proportion');"
      ],
      "execution_count": 38,
      "outputs": [
        {
          "output_type": "display_data",
          "data": {
            "image/png": "[encoded data removed]",
            "text/plain": [
              "<Figure size 1080x504 with 2 Axes>"
            ]
          },
          "metadata": {
            "tags": [],
            "needs_background": "light"
          }
        }
      ]
    },
    {
      "cell_type": "code",
      "metadata": {
        "colab": {
          "base_uri": "https://localhost:8080/"
        },
        "id": "LhtwRLE405zX",
        "outputId": "80f940f3-f4d8-4032-9ced-fe2326c3e5f7"
      },
      "source": [
        "edu_table = pd.crosstab(train['education_level'],train['target'])\n",
        "_, p, _, _ = chi2_contingency(edu_table)\n",
        "\n",
        "# interpret p-value \n",
        "alpha = 0.05\n",
        "print(\"p value is \" + str(p)) \n",
        "if p <= alpha: \n",
        "    print('Dependent (reject H0)') \n",
        "else: \n",
        "    print('Independent (H0 holds true)') "
      ],
      "execution_count": 39,
      "outputs": [
        {
          "output_type": "stream",
          "text": [
            "p value is 2.787356885121268e-34\n",
            "Dependent (reject H0)\n"
          ],
          "name": "stdout"
        }
      ]
    },
    {
      "cell_type": "code",
      "metadata": {
        "colab": {
          "base_uri": "https://localhost:8080/"
        },
        "id": "1iRXE-LF1KLx",
        "outputId": "2c57246a-1eaa-4d29-e897-eb9bacdb3554"
      },
      "source": [
        "train['major_discipline'].value_counts()"
      ],
      "execution_count": 41,
      "outputs": [
        {
          "output_type": "execute_result",
          "data": {
            "text/plain": [
              "STEM               14492\n",
              "Humanities           669\n",
              "Other                381\n",
              "Business Degree      327\n",
              "Arts                 253\n",
              "No Major             223\n",
              "Name: major_discipline, dtype: int64"
            ]
          },
          "metadata": {
            "tags": []
          },
          "execution_count": 41
        }
      ]
    },
    {
      "cell_type": "code",
      "metadata": {
        "colab": {
          "base_uri": "https://localhost:8080/"
        },
        "id": "aOQ6ZJOe1oiR",
        "outputId": "7d24a5cd-984d-46a3-a568-8071ca9add9f"
      },
      "source": [
        "train['major_discipline'].fillna('na', inplace=True)\n",
        "train['major_discipline'].value_counts()"
      ],
      "execution_count": 42,
      "outputs": [
        {
          "output_type": "execute_result",
          "data": {
            "text/plain": [
              "STEM               14492\n",
              "na                  2813\n",
              "Humanities           669\n",
              "Other                381\n",
              "Business Degree      327\n",
              "Arts                 253\n",
              "No Major             223\n",
              "Name: major_discipline, dtype: int64"
            ]
          },
          "metadata": {
            "tags": []
          },
          "execution_count": 42
        }
      ]
    },
    {
      "cell_type": "code",
      "metadata": {
        "colab": {
          "base_uri": "https://localhost:8080/",
          "height": 458
        },
        "id": "gowgOp9S1wmX",
        "outputId": "95c82810-c48d-4cdc-cf97-ac095a5e881d"
      },
      "source": [
        "plt.figure(figsize=(15,7))\n",
        "\n",
        "plt.subplot(121)\n",
        "sns.countplot(data=train, x='major_discipline')\n",
        "plt.title('Counts of Majors')\n",
        "plt.xlabel('Major')\n",
        "plt.ylabel('Count');\n",
        "\n",
        "plt.subplot(122)\n",
        "sns.barplot(data=train, x='major_discipline', y='target')\n",
        "plt.title('Proportion of Majors of Job Change')\n",
        "plt.xlabel('Major')\n",
        "plt.ylabel('Frequency');"
      ],
      "execution_count": 44,
      "outputs": [
        {
          "output_type": "display_data",
          "data": {
            "image/png": "[encoded data removed]",
            "text/plain": [
              "<Figure size 1080x504 with 2 Axes>"
            ]
          },
          "metadata": {
            "tags": [],
            "needs_background": "light"
          }
        }
      ]
    },
    {
      "cell_type": "code",
      "metadata": {
        "colab": {
          "base_uri": "https://localhost:8080/"
        },
        "id": "ojeL-4hG11om",
        "outputId": "e7e06517-af5b-4894-afad-076c7bfb8b91"
      },
      "source": [
        "major_table = pd.crosstab(train['major_discipline'],train['target'])\n",
        "stat, p, dof, expected = chi2_contingency(major_table)\n",
        "\n",
        "# interpret p-value \n",
        "alpha = 0.05\n",
        "print(\"p value is \" + str(p)) \n",
        "if p <= alpha: \n",
        "    print('Dependent (reject H0)') \n",
        "else: \n",
        "    print('Independent (H0 holds true)') "
      ],
      "execution_count": 45,
      "outputs": [
        {
          "output_type": "stream",
          "text": [
            "p value is 6.22453676130265e-12\n",
            "Dependent (reject H0)\n"
          ],
          "name": "stdout"
        }
      ]
    },
    {
      "cell_type": "code",
      "metadata": {
        "colab": {
          "base_uri": "https://localhost:8080/"
        },
        "id": "634cQM6x2HVo",
        "outputId": "94f90b60-3fcd-4810-be1c-e4841eb0d37c"
      },
      "source": [
        "train['company_size'].value_counts()"
      ],
      "execution_count": 46,
      "outputs": [
        {
          "output_type": "execute_result",
          "data": {
            "text/plain": [
              "50-99        3083\n",
              "100-500      2571\n",
              "10000+       2019\n",
              "10/49        1471\n",
              "1000-4999    1328\n",
              "<10          1308\n",
              "500-999       877\n",
              "5000-9999     563\n",
              "Name: company_size, dtype: int64"
            ]
          },
          "metadata": {
            "tags": []
          },
          "execution_count": 46
        }
      ]
    },
    {
      "cell_type": "code",
      "metadata": {
        "colab": {
          "base_uri": "https://localhost:8080/"
        },
        "id": "meRP8u9a2N6K",
        "outputId": "93812ef0-5fe3-42b7-8bc8-12f1c4e29478"
      },
      "source": [
        "train['company_size'].fillna('na', inplace=True)\n",
        "train['company_size'].value_counts()"
      ],
      "execution_count": 47,
      "outputs": [
        {
          "output_type": "execute_result",
          "data": {
            "text/plain": [
              "na           5938\n",
              "50-99        3083\n",
              "100-500      2571\n",
              "10000+       2019\n",
              "10/49        1471\n",
              "1000-4999    1328\n",
              "<10          1308\n",
              "500-999       877\n",
              "5000-9999     563\n",
              "Name: company_size, dtype: int64"
            ]
          },
          "metadata": {
            "tags": []
          },
          "execution_count": 47
        }
      ]
    },
    {
      "cell_type": "code",
      "metadata": {
        "colab": {
          "base_uri": "https://localhost:8080/",
          "height": 458
        },
        "id": "yLt3m7ej2RE6",
        "outputId": "45bde9f5-7708-44d8-b960-62ed18d75e60"
      },
      "source": [
        "plt.figure(figsize=(15,7))\n",
        "\n",
        "plt.subplot(121)\n",
        "sns.countplot(data=train, y='company_size')\n",
        "plt.title('Company Size Counts')\n",
        "plt.xlabel('Count')\n",
        "plt.ylabel('Company Size');\n",
        "\n",
        "plt.subplot(122)\n",
        "sns.barplot(data=train, y='company_size', x='target')\n",
        "plt.title('Company Size Proportions of Job Change')\n",
        "plt.xlabel('Proportion')\n",
        "plt.ylabel('Company Size');"
      ],
      "execution_count": 48,
      "outputs": [
        {
          "output_type": "display_data",
          "data": {
            "image/png": "[encoded data removed]",
            "text/plain": [
              "<Figure size 1080x504 with 2 Axes>"
            ]
          },
          "metadata": {
            "tags": [],
            "needs_background": "light"
          }
        }
      ]
    },
    {
      "cell_type": "code",
      "metadata": {
        "colab": {
          "base_uri": "https://localhost:8080/"
        },
        "id": "3HjugyBr2k41",
        "outputId": "74efa8c0-a4c9-477d-ac38-f50f31bedf91"
      },
      "source": [
        "comp_size_table = pd.crosstab(train['company_size'],train['target'])\n",
        "stat, p, dof, expected = chi2_contingency(comp_size_table)\n",
        "\n",
        "# interpret p-value \n",
        "alpha = 0.05\n",
        "print(\"p value is \" + str(p)) \n",
        "if p <= alpha: \n",
        "    print('Dependent (reject H0)') \n",
        "else: \n",
        "    print('Independent (H0 holds true)') "
      ],
      "execution_count": 49,
      "outputs": [
        {
          "output_type": "stream",
          "text": [
            "p value is 1.5874534712450328e-245\n",
            "Dependent (reject H0)\n"
          ],
          "name": "stdout"
        }
      ]
    },
    {
      "cell_type": "code",
      "metadata": {
        "colab": {
          "base_uri": "https://localhost:8080/"
        },
        "id": "vsUpbQ0X2woP",
        "outputId": "0c16de96-ade0-4d4d-e247-a734035ef0d1"
      },
      "source": [
        "print(train['company_type'].value_counts())\n",
        "train['company_type'].fillna('na', inplace=True)"
      ],
      "execution_count": 50,
      "outputs": [
        {
          "output_type": "stream",
          "text": [
            "Pvt Ltd                9817\n",
            "Funded Startup         1001\n",
            "Public Sector           955\n",
            "Early Stage Startup     603\n",
            "NGO                     521\n",
            "Other                   121\n",
            "Name: company_type, dtype: int64\n"
          ],
          "name": "stdout"
        }
      ]
    },
    {
      "cell_type": "code",
      "metadata": {
        "colab": {
          "base_uri": "https://localhost:8080/",
          "height": 458
        },
        "id": "ZKMA3xjq27cK",
        "outputId": "e53699d9-5dce-4cfd-c344-73b86791a3d3"
      },
      "source": [
        "plt.figure(figsize=(22,7))\n",
        "\n",
        "plt.subplot(121)\n",
        "sns.countplot(data=train, y='company_type')\n",
        "plt.title('Types of company Counts')\n",
        "plt.xlabel('Count')\n",
        "plt.ylabel('Company Type');\n",
        "\n",
        "plt.subplot(122)\n",
        "sns.barplot(data=train, y='company_type', x='target')\n",
        "plt.title('Types of company proprtion of Job Change')\n",
        "plt.xlabel('Proportion')\n",
        "plt.ylabel('Company Type');"
      ],
      "execution_count": 51,
      "outputs": [
        {
          "output_type": "display_data",
          "data": {
            "image/png": "[encoded data removed]",
            "text/plain": [
              "<Figure size 1584x504 with 2 Axes>"
            ]
          },
          "metadata": {
            "tags": [],
            "needs_background": "light"
          }
        }
      ]
    },
    {
      "cell_type": "code",
      "metadata": {
        "colab": {
          "base_uri": "https://localhost:8080/"
        },
        "id": "ufHIpHmY3BI_",
        "outputId": "ff9f2cfa-7d8f-4442-e6e1-d1793d30aa5d"
      },
      "source": [
        "comp_type_table = pd.crosstab(train['company_type'],train['target'])\n",
        "stat, p, dof, expected = chi2_contingency(comp_type_table)\n",
        "\n",
        "# interpret p-value \n",
        "alpha = 0.05\n",
        "print(\"p value is \" + str(p)) \n",
        "if p <= alpha: \n",
        "    print('Dependent (reject H0)') \n",
        "else: \n",
        "    print('Independent (H0 holds true)') "
      ],
      "execution_count": 52,
      "outputs": [
        {
          "output_type": "stream",
          "text": [
            "p value is 4.351920136429758e-204\n",
            "Dependent (reject H0)\n"
          ],
          "name": "stdout"
        }
      ]
    },
    {
      "cell_type": "code",
      "metadata": {
        "colab": {
          "base_uri": "https://localhost:8080/",
          "height": 579
        },
        "id": "2h1kNvcM3SX4",
        "outputId": "03618fe7-8a94-436a-ccc9-b5cfcca6282a"
      },
      "source": [
        "print(train['city_development_index'].describe())\n",
        "plt.figure(figsize=(22,7))\n",
        "\n",
        "plt.subplot(121)\n",
        "plt.hist(data=train[train['target'] == 0], x='city_development_index')\n",
        "\n",
        "plt.subplot(122)\n",
        "plt.hist(data=train[train['target'] == 1], x='city_development_index');"
      ],
      "execution_count": 53,
      "outputs": [
        {
          "output_type": "stream",
          "text": [
            "count    19158.000000\n",
            "mean         0.828848\n",
            "std          0.123362\n",
            "min          0.448000\n",
            "25%          0.740000\n",
            "50%          0.903000\n",
            "75%          0.920000\n",
            "max          0.949000\n",
            "Name: city_development_index, dtype: float64\n"
          ],
          "name": "stdout"
        },
        {
          "output_type": "display_data",
          "data": {
            "image/png": "[encoded data removed]",
            "text/plain": [
              "<Figure size 1584x504 with 2 Axes>"
            ]
          },
          "metadata": {
            "tags": [],
            "needs_background": "light"
          }
        }
      ]
    },
    {
      "cell_type": "code",
      "metadata": {
        "colab": {
          "base_uri": "https://localhost:8080/"
        },
        "id": "baTXuMF34X7x",
        "outputId": "3ef541ac-297e-431f-8656-002feb81d84f"
      },
      "source": [
        "print(train['experience'].value_counts())\n",
        "train['experience'] = train['experience'].replace('>20', 21)\n",
        "train['experience'] = train['experience'].replace('<1', 21)\n",
        "train['experience'] = train['experience'].fillna(np.random.choice(['experience']))\n",
        "train['experience'] = train['experience'].astype('float64')"
      ],
      "execution_count": 56,
      "outputs": [
        {
          "output_type": "stream",
          "text": [
            "21    3873\n",
            "5     1430\n",
            "4     1403\n",
            "3     1354\n",
            "6     1216\n",
            "2     1127\n",
            "7     1028\n",
            "10     985\n",
            "9      980\n",
            "8      802\n",
            "15     686\n",
            "11     664\n",
            "14     586\n",
            "1      549\n",
            "16     508\n",
            "12     494\n",
            "13     399\n",
            "17     342\n",
            "19     304\n",
            "18     280\n",
            "20     148\n",
            "Name: experience, dtype: int64\n"
          ],
          "name": "stdout"
        }
      ]
    },
    {
      "cell_type": "code",
      "metadata": {
        "colab": {
          "base_uri": "https://localhost:8080/",
          "height": 428
        },
        "id": "QN9f4sgJ4uGt",
        "outputId": "340be648-2665-42e5-a612-b733bb310dcf"
      },
      "source": [
        "plt.figure(figsize=(22,7))\n",
        "\n",
        "plt.subplot(121)\n",
        "plt.hist(data=train[train['target'] == 0], x='experience')\n",
        "\n",
        "plt.subplot(122)\n",
        "plt.hist(data=train[train['target'] == 1], x='experience');"
      ],
      "execution_count": 57,
      "outputs": [
        {
          "output_type": "display_data",
          "data": {
            "image/png": "[encoded data removed]",
            "text/plain": [
              "<Figure size 1584x504 with 2 Axes>"
            ]
          },
          "metadata": {
            "tags": [],
            "needs_background": "light"
          }
        }
      ]
    },
    {
      "cell_type": "code",
      "metadata": {
        "colab": {
          "base_uri": "https://localhost:8080/"
        },
        "id": "5AmA0WGr5Dk4",
        "outputId": "7f04c1a7-b939-4a03-e6dc-69ed596a40ae"
      },
      "source": [
        "print(train['last_new_job'].value_counts())\n",
        "train['last_new_job'] = train['last_new_job'].replace('>4', 5)\n",
        "train['last_new_job'] = train['last_new_job'].replace('never', 0)\n",
        "train['last_new_job'] = train['last_new_job'].fillna(np.random.choice(train['last_new_job']))\n",
        "train['last_new_job'] = train['last_new_job'].astype('float64')"
      ],
      "execution_count": 58,
      "outputs": [
        {
          "output_type": "stream",
          "text": [
            "1        8040\n",
            ">4       3290\n",
            "2        2900\n",
            "never    2452\n",
            "4        1029\n",
            "3        1024\n",
            "Name: last_new_job, dtype: int64\n"
          ],
          "name": "stdout"
        }
      ]
    },
    {
      "cell_type": "code",
      "metadata": {
        "colab": {
          "base_uri": "https://localhost:8080/",
          "height": 1000
        },
        "id": "BvxbmifB5ehI",
        "outputId": "36b36f19-7dc1-43c0-94f6-b1634b4e40b6"
      },
      "source": [
        "plt.figure(figsize=(22,7))\n",
        "\n",
        "plt.subplot(121)\n",
        "plt.hist(data=train[train['target'] == 0], x='last_new_job')\n",
        "\n",
        "plt.subplot(122)\n",
        "plt.hist(data=train[train['target'] == 1], x='last_new_job');\n",
        "plt.figure(figsize=(10,10))\n",
        "sns.boxplot(data=train, x='target', y='last_new_job');"
      ],
      "execution_count": 61,
      "outputs": [
        {
          "output_type": "display_data",
          "data": {
            "image/png": "[encoded data removed]",
            "text/plain": [
              "<Figure size 1584x504 with 2 Axes>"
            ]
          },
          "metadata": {
            "tags": [],
            "needs_background": "light"
          }
        },
        {
          "output_type": "display_data",
          "data": {
            "image/png": "[encoded data removed]",
            "text/plain": [
              "<Figure size 720x720 with 1 Axes>"
            ]
          },
          "metadata": {
            "tags": [],
            "needs_background": "light"
          }
        }
      ]
    },
    {
      "cell_type": "code",
      "metadata": {
        "colab": {
          "base_uri": "https://localhost:8080/",
          "height": 1000
        },
        "id": "1uuXeTjr5qui",
        "outputId": "d0ac524d-3660-4646-b51e-b9c8af285332"
      },
      "source": [
        "print(train['training_hours'].describe())\n",
        "plt.figure(figsize=(22,7))\n",
        "\n",
        "plt.subplot(121)\n",
        "plt.hist(data=train[train['target'] == 0], x='training_hours')\n",
        "\n",
        "plt.subplot(122)\n",
        "plt.hist(data=train[train['target'] == 1], x='training_hours');\n",
        "\n",
        "plt.figure(figsize=(10,10))\n",
        "sns.boxplot(data=train, x='target', y='training_hours')"
      ],
      "execution_count": 62,
      "outputs": [
        {
          "output_type": "stream",
          "text": [
            "count    19158.000000\n",
            "mean        65.366896\n",
            "std         60.058462\n",
            "min          1.000000\n",
            "25%         23.000000\n",
            "50%         47.000000\n",
            "75%         88.000000\n",
            "max        336.000000\n",
            "Name: training_hours, dtype: float64\n"
          ],
          "name": "stdout"
        },
        {
          "output_type": "execute_result",
          "data": {
            "text/plain": [
              "<matplotlib.axes._subplots.AxesSubplot at 0x7f86ebad1450>"
            ]
          },
          "metadata": {
            "tags": []
          },
          "execution_count": 62
        },
        {
          "output_type": "display_data",
          "data": {
            "image/png": "[encoded data removed]",
            "text/plain": [
              "<Figure size 1584x504 with 2 Axes>"
            ]
          },
          "metadata": {
            "tags": [],
            "needs_background": "light"
          }
        },
        {
          "output_type": "display_data",
          "data": {
            "image/png": "[encoded data removed]",
            "text/plain": [
              "<Figure size 720x720 with 1 Axes>"
            ]
          },
          "metadata": {
            "tags": [],
            "needs_background": "light"
          }
        }
      ]
    },
    {
      "cell_type": "code",
      "metadata": {
        "id": "xe5Ac7s96BlN"
      },
      "source": [
        "train[['male', 'other_gender', 'na_gender']] = pd.get_dummies(train['gender'])[['Male', 'Other', 'na']]\n",
        "\n",
        "train[['no_enrollment', 'Full time course', 'Part time course']] = pd.get_dummies(train['enrolled_university'])[['no_enrollment', 'Full time course', 'Part time course']]\n",
        "\n",
        "train[['Graduate','High School','Phd','Primary School','na_edu_level']] = pd.get_dummies(train['education_level'])[['Graduate','High School','Phd','Primary School','na']]\n",
        "\n",
        "train[['Humanities', 'Other', 'Business Degree','Arts', 'No Major', 'na_major']] = pd.get_dummies(train['major_discipline'])[['Humanities', 'Other', 'Business Degree','Arts', 'No Major', 'na']]\n",
        "\n",
        "train[['csize_na', 'csize_50-99', 'csize_100-500', 'csize_10000+', 'csize_1000-4999', 'csize_<10', 'csize_500-999', 'csize_5000-9999']] = pd.get_dummies(train['company_size'])[['na', '50-99', '100-500', '10000+', '1000-4999', '<10', '500-999', '5000-9999']]\n",
        "\n",
        "train[['ctype_Pvt Ltd', 'ctype_Funded Startup', 'ctype_Public Sector', 'ctype_Early Stage Startup', 'ctype_NGO', 'ctype_Other']] = pd.get_dummies(train['company_type'])[['Pvt Ltd', 'Funded Startup', 'Public Sector', 'Early Stage Startup', 'NGO','Other']]"
      ],
      "execution_count": 63,
      "outputs": []
    },
    {
      "cell_type": "code",
      "metadata": {
        "id": "V1YwiiiQ8Z5X"
      },
      "source": [
        "from sklearn.model_selection import train_test_split, GridSearchCV\n",
        "from sklearn.linear_model import LogisticRegression\n",
        "from sklearn.neighbors import KNeighborsClassifier\n",
        "from sklearn.tree import DecisionTreeClassifier\n",
        "from sklearn.metrics import accuracy_score, confusion_matrix, classification_report, roc_auc_score, roc_curve, auc, make_scorer, plot_confusion_matrix\n",
        "from sklearn.ensemble import RandomForestClassifier\n",
        "from sklearn.preprocessing import StandardScaler\n",
        "\n",
        "X = train[['city_development_index','experience','last_new_job','training_hours', 'male', 'other_gender',\n",
        "       'na_gender', 'relevent_experience', 'no_enrollment',\n",
        "       'Full time course', 'Part time course', 'Graduate', 'High School',\n",
        "       'Phd', 'Primary School', 'na_edu_level', 'Humanities', 'Other',\n",
        "       'Business Degree', 'Arts', 'No Major', 'na_major', 'csize_na',\n",
        "       'csize_50-99', 'csize_100-500', 'csize_10000+', 'csize_1000-4999',\n",
        "       'csize_<10', 'csize_500-999', 'csize_5000-9999', 'ctype_Pvt Ltd',\n",
        "       'ctype_Funded Startup', 'ctype_Public Sector',\n",
        "       'ctype_Early Stage Startup', 'ctype_NGO', 'ctype_Other']]\n",
        "\n",
        "y = train['target']\n",
        "\n",
        "x_train, x_val, y_train, y_val = train_test_split(X,y, test_size=.20, random_state=9)\n"
      ],
      "execution_count": 140,
      "outputs": []
    },
    {
      "cell_type": "code",
      "metadata": {
        "id": "rGDA5AGZ8nhp"
      },
      "source": [
        "Scaler=StandardScaler()\n",
        "x_train=Scaler.fit_transform(x_train)\n",
        "x_val=Scaler.fit_transform(x_val)\n",
        "\n"
      ],
      "execution_count": 141,
      "outputs": []
    },
    {
      "cell_type": "code",
      "metadata": {
        "colab": {
          "base_uri": "https://localhost:8080/"
        },
        "id": "ynEcH608-hpE",
        "outputId": "bfa1c123-72f9-4daf-d202-fba0fa3dc6f2"
      },
      "source": [
        "\n",
        "lr=LogisticRegression(random_state=2021,max_iter=1000)\n",
        "model=lr.fit(x_train,y_train)\n",
        "y_pred=model.predict(x_val)\n",
        "print(classification_report(y_val,y_pred))\n",
        "print(model.score(x_train,y_train))\n",
        "print(model.score(x_val,y_val))"
      ],
      "execution_count": 142,
      "outputs": [
        {
          "output_type": "stream",
          "text": [
            "              precision    recall  f1-score   support\n",
            "\n",
            "         0.0       0.79      0.94      0.86      2843\n",
            "         1.0       0.60      0.26      0.36       989\n",
            "\n",
            "    accuracy                           0.76      3832\n",
            "   macro avg       0.69      0.60      0.61      3832\n",
            "weighted avg       0.74      0.76      0.73      3832\n",
            "\n",
            "0.7717604071512463\n",
            "0.7638308977035491\n"
          ],
          "name": "stdout"
        }
      ]
    },
    {
      "cell_type": "code",
      "metadata": {
        "colab": {
          "base_uri": "https://localhost:8080/"
        },
        "id": "s4g8MJy0_Nm0",
        "outputId": "46c23888-1d93-4671-c55d-3ea5587d12a1"
      },
      "source": [
        "knn_model = KNeighborsClassifier(n_neighbors=50)\n",
        "model=knn_model.fit(x_train,y_train)\n",
        "y_pred=model.predict(x_val)\n",
        "print(classification_report(y_val,y_pred))\n",
        "print(model.score(x_train,y_train))\n",
        "print(model.score(x_val,y_val))"
      ],
      "execution_count": 143,
      "outputs": [
        {
          "output_type": "stream",
          "text": [
            "              precision    recall  f1-score   support\n",
            "\n",
            "         0.0       0.79      0.93      0.85      2843\n",
            "         1.0       0.57      0.28      0.38       989\n",
            "\n",
            "    accuracy                           0.76      3832\n",
            "   macro avg       0.68      0.60      0.61      3832\n",
            "weighted avg       0.73      0.76      0.73      3832\n",
            "\n",
            "0.7776327808952107\n",
            "0.7604384133611691\n"
          ],
          "name": "stdout"
        }
      ]
    },
    {
      "cell_type": "code",
      "metadata": {
        "colab": {
          "base_uri": "https://localhost:8080/"
        },
        "id": "RPKcJFwYAECH",
        "outputId": "193547b2-9d78-4820-849c-8ba7d4e7d7d0"
      },
      "source": [
        "tree_model = DecisionTreeClassifier(criterion='entropy', max_depth=5, max_leaf_nodes=10 )\n",
        "model=tree_model.fit(x_train,y_train)\n",
        "y_pred=model.predict(x_val)\n",
        "print(classification_report(y_val,y_pred))\n",
        "print(model.score(x_train,y_train))\n",
        "print(model.score(x_val,y_val))"
      ],
      "execution_count": 144,
      "outputs": [
        {
          "output_type": "stream",
          "text": [
            "              precision    recall  f1-score   support\n",
            "\n",
            "         0.0       0.79      0.93      0.85      2843\n",
            "         1.0       0.57      0.29      0.38       989\n",
            "\n",
            "    accuracy                           0.76      3832\n",
            "   macro avg       0.68      0.61      0.62      3832\n",
            "weighted avg       0.73      0.76      0.73      3832\n",
            "\n",
            "0.7908129975205533\n",
            "0.7606993736951984\n"
          ],
          "name": "stdout"
        }
      ]
    },
    {
      "cell_type": "code",
      "metadata": {
        "colab": {
          "base_uri": "https://localhost:8080/"
        },
        "id": "C77KrEtLAX5R",
        "outputId": "60efdd9c-0c28-43b0-a3ef-0008205f84c0"
      },
      "source": [
        "rf_model = RandomForestClassifier(n_estimators=100)\n",
        "model=rf_model.fit(x_train,y_train)\n",
        "y_pred=model.predict(x_val)\n",
        "print(classification_report(y_val,y_pred))\n",
        "print(model.score(x_train,y_train))\n",
        "print(model.score(x_val,y_val))"
      ],
      "execution_count": 145,
      "outputs": [
        {
          "output_type": "stream",
          "text": [
            "              precision    recall  f1-score   support\n",
            "\n",
            "         0.0       0.78      0.93      0.85      2843\n",
            "         1.0       0.57      0.26      0.35       989\n",
            "\n",
            "    accuracy                           0.76      3832\n",
            "   macro avg       0.67      0.59      0.60      3832\n",
            "weighted avg       0.73      0.76      0.72      3832\n",
            "\n",
            "0.9982382878768107\n",
            "0.7575678496868476\n"
          ],
          "name": "stdout"
        }
      ]
    },
    {
      "cell_type": "code",
      "metadata": {
        "id": "SNPI0CjUB4ac"
      },
      "source": [
        "import tensorflow as tf\n",
        "from tensorflow import keras\n",
        "\n",
        "\n",
        "\n",
        "def build_fc_model(input_shape=(36,1), num_class=2):\n",
        "    \n",
        "    \n",
        "    model=tf.keras.models.Sequential([tf.keras.layers.Flatten(), \n",
        "                                    tf.keras.layers.Dropout(0.1),\n",
        "                                    tf.keras.layers.Dense(512,activation='relu',input_shape=input_shape,kernel_regularizer=tf.keras.regularizers.l2(1e-2)),\n",
        "                                    tf.keras.layers.Dropout(0.1),\n",
        "                                    tf.keras.layers.Dense(512,activation='relu',kernel_regularizer=tf.keras.regularizers.l2(1e-3)),\n",
        "                                    tf.keras.layers.Dropout(0.1),\n",
        "                                    tf.keras.layers.Dense(128,activation='relu'),\n",
        "                                    tf.keras.layers.Dense(64,activation='relu'),\n",
        "                                    tf.keras.layers.Dense(num_class,activation='softmax')\n",
        "                                    ])\n",
        "\n",
        "    return model"
      ],
      "execution_count": 146,
      "outputs": []
    },
    {
      "cell_type": "code",
      "metadata": {
        "colab": {
          "base_uri": "https://localhost:8080/"
        },
        "id": "Ol6smMmvCfv1",
        "outputId": "db5fcc6e-2cf8-4ee8-b8f3-33d3e8f978ce"
      },
      "source": [
        "model=build_fc_model()\n",
        "model.compile(loss='sparse_categorical_crossentropy',optimizer='adam',metrics=['accuracy'])\n",
        "history=model.fit(x_train,y_train,epochs=100,batch_size=256,validation_data=(x_val,y_val))"
      ],
      "execution_count": 133,
      "outputs": [
        {
          "output_type": "stream",
          "text": [
            "Epoch 1/100\n",
            "60/60 [==============================] - 2s 26ms/step - loss: 1.2320 - accuracy: 0.7590 - val_loss: 0.8553 - val_accuracy: 0.7641\n",
            "Epoch 2/100\n",
            "60/60 [==============================] - 1s 24ms/step - loss: 0.7006 - accuracy: 0.7772 - val_loss: 0.6011 - val_accuracy: 0.7664\n",
            "Epoch 3/100\n",
            "60/60 [==============================] - 1s 24ms/step - loss: 0.5529 - accuracy: 0.7774 - val_loss: 0.5240 - val_accuracy: 0.7646\n",
            "Epoch 4/100\n",
            "60/60 [==============================] - 1s 23ms/step - loss: 0.5016 - accuracy: 0.7817 - val_loss: 0.4946 - val_accuracy: 0.7659\n",
            "Epoch 5/100\n",
            "60/60 [==============================] - 1s 23ms/step - loss: 0.4859 - accuracy: 0.7772 - val_loss: 0.4823 - val_accuracy: 0.7743\n",
            "Epoch 6/100\n",
            "60/60 [==============================] - 1s 23ms/step - loss: 0.4744 - accuracy: 0.7810 - val_loss: 0.4793 - val_accuracy: 0.7717\n",
            "Epoch 7/100\n",
            "60/60 [==============================] - 1s 22ms/step - loss: 0.4698 - accuracy: 0.7821 - val_loss: 0.4752 - val_accuracy: 0.7675\n",
            "Epoch 8/100\n",
            "60/60 [==============================] - 1s 24ms/step - loss: 0.4654 - accuracy: 0.7814 - val_loss: 0.4800 - val_accuracy: 0.7683\n",
            "Epoch 9/100\n",
            "60/60 [==============================] - 1s 23ms/step - loss: 0.4676 - accuracy: 0.7794 - val_loss: 0.4689 - val_accuracy: 0.7769\n",
            "Epoch 10/100\n",
            "60/60 [==============================] - 1s 23ms/step - loss: 0.4654 - accuracy: 0.7806 - val_loss: 0.4724 - val_accuracy: 0.7719\n",
            "Epoch 11/100\n",
            "60/60 [==============================] - 1s 23ms/step - loss: 0.4655 - accuracy: 0.7805 - val_loss: 0.4761 - val_accuracy: 0.7599\n",
            "Epoch 12/100\n",
            "60/60 [==============================] - 1s 23ms/step - loss: 0.4657 - accuracy: 0.7842 - val_loss: 0.4692 - val_accuracy: 0.7745\n",
            "Epoch 13/100\n",
            "60/60 [==============================] - 1s 23ms/step - loss: 0.4666 - accuracy: 0.7804 - val_loss: 0.4767 - val_accuracy: 0.7724\n",
            "Epoch 14/100\n",
            "60/60 [==============================] - 1s 22ms/step - loss: 0.4646 - accuracy: 0.7812 - val_loss: 0.4726 - val_accuracy: 0.7717\n",
            "Epoch 15/100\n",
            "60/60 [==============================] - 1s 23ms/step - loss: 0.4621 - accuracy: 0.7844 - val_loss: 0.4727 - val_accuracy: 0.7717\n",
            "Epoch 16/100\n",
            "60/60 [==============================] - 1s 23ms/step - loss: 0.4643 - accuracy: 0.7803 - val_loss: 0.4731 - val_accuracy: 0.7748\n",
            "Epoch 17/100\n",
            "60/60 [==============================] - 1s 22ms/step - loss: 0.4625 - accuracy: 0.7830 - val_loss: 0.4663 - val_accuracy: 0.7756\n",
            "Epoch 18/100\n",
            "60/60 [==============================] - 1s 23ms/step - loss: 0.4611 - accuracy: 0.7862 - val_loss: 0.4682 - val_accuracy: 0.7753\n",
            "Epoch 19/100\n",
            "60/60 [==============================] - 1s 23ms/step - loss: 0.4637 - accuracy: 0.7817 - val_loss: 0.4692 - val_accuracy: 0.7706\n",
            "Epoch 20/100\n",
            "60/60 [==============================] - 1s 22ms/step - loss: 0.4586 - accuracy: 0.7854 - val_loss: 0.4718 - val_accuracy: 0.7714\n",
            "Epoch 21/100\n",
            "60/60 [==============================] - 1s 23ms/step - loss: 0.4613 - accuracy: 0.7851 - val_loss: 0.4698 - val_accuracy: 0.7709\n",
            "Epoch 22/100\n",
            "60/60 [==============================] - 1s 23ms/step - loss: 0.4600 - accuracy: 0.7830 - val_loss: 0.4678 - val_accuracy: 0.7709\n",
            "Epoch 23/100\n",
            "60/60 [==============================] - 1s 23ms/step - loss: 0.4629 - accuracy: 0.7817 - val_loss: 0.4699 - val_accuracy: 0.7714\n",
            "Epoch 24/100\n",
            "60/60 [==============================] - 1s 23ms/step - loss: 0.4614 - accuracy: 0.7819 - val_loss: 0.4689 - val_accuracy: 0.7701\n",
            "Epoch 25/100\n",
            "60/60 [==============================] - 1s 23ms/step - loss: 0.4583 - accuracy: 0.7849 - val_loss: 0.4673 - val_accuracy: 0.7790\n",
            "Epoch 26/100\n",
            "60/60 [==============================] - 1s 24ms/step - loss: 0.4613 - accuracy: 0.7827 - val_loss: 0.4783 - val_accuracy: 0.7662\n",
            "Epoch 27/100\n",
            "60/60 [==============================] - 1s 23ms/step - loss: 0.4619 - accuracy: 0.7821 - val_loss: 0.4687 - val_accuracy: 0.7722\n",
            "Epoch 28/100\n",
            "60/60 [==============================] - 1s 23ms/step - loss: 0.4604 - accuracy: 0.7814 - val_loss: 0.4684 - val_accuracy: 0.7771\n",
            "Epoch 29/100\n",
            "60/60 [==============================] - 1s 23ms/step - loss: 0.4597 - accuracy: 0.7844 - val_loss: 0.4710 - val_accuracy: 0.7709\n",
            "Epoch 30/100\n",
            "60/60 [==============================] - 1s 22ms/step - loss: 0.4591 - accuracy: 0.7836 - val_loss: 0.4780 - val_accuracy: 0.7698\n",
            "Epoch 31/100\n",
            "60/60 [==============================] - 1s 23ms/step - loss: 0.4603 - accuracy: 0.7835 - val_loss: 0.4729 - val_accuracy: 0.7730\n",
            "Epoch 32/100\n",
            "60/60 [==============================] - 1s 23ms/step - loss: 0.4605 - accuracy: 0.7848 - val_loss: 0.4685 - val_accuracy: 0.7709\n",
            "Epoch 33/100\n",
            "60/60 [==============================] - 1s 23ms/step - loss: 0.4586 - accuracy: 0.7854 - val_loss: 0.4690 - val_accuracy: 0.7777\n",
            "Epoch 34/100\n",
            "60/60 [==============================] - 1s 23ms/step - loss: 0.4586 - accuracy: 0.7851 - val_loss: 0.4741 - val_accuracy: 0.7670\n",
            "Epoch 35/100\n",
            "60/60 [==============================] - 1s 22ms/step - loss: 0.4610 - accuracy: 0.7817 - val_loss: 0.4714 - val_accuracy: 0.7766\n",
            "Epoch 36/100\n",
            "60/60 [==============================] - 1s 23ms/step - loss: 0.4583 - accuracy: 0.7852 - val_loss: 0.4748 - val_accuracy: 0.7711\n",
            "Epoch 37/100\n",
            "60/60 [==============================] - 1s 23ms/step - loss: 0.4570 - accuracy: 0.7857 - val_loss: 0.4690 - val_accuracy: 0.7758\n",
            "Epoch 38/100\n",
            "60/60 [==============================] - 1s 23ms/step - loss: 0.4602 - accuracy: 0.7840 - val_loss: 0.4737 - val_accuracy: 0.7774\n",
            "Epoch 39/100\n",
            "60/60 [==============================] - 1s 23ms/step - loss: 0.4564 - accuracy: 0.7884 - val_loss: 0.4748 - val_accuracy: 0.7727\n",
            "Epoch 40/100\n",
            "60/60 [==============================] - 1s 23ms/step - loss: 0.4608 - accuracy: 0.7843 - val_loss: 0.4692 - val_accuracy: 0.7758\n",
            "Epoch 41/100\n",
            "60/60 [==============================] - 1s 24ms/step - loss: 0.4587 - accuracy: 0.7851 - val_loss: 0.4692 - val_accuracy: 0.7764\n",
            "Epoch 42/100\n",
            "60/60 [==============================] - 1s 23ms/step - loss: 0.4592 - accuracy: 0.7825 - val_loss: 0.4750 - val_accuracy: 0.7711\n",
            "Epoch 43/100\n",
            "60/60 [==============================] - 1s 22ms/step - loss: 0.4606 - accuracy: 0.7832 - val_loss: 0.4711 - val_accuracy: 0.7756\n",
            "Epoch 44/100\n",
            "60/60 [==============================] - 1s 23ms/step - loss: 0.4575 - accuracy: 0.7862 - val_loss: 0.4728 - val_accuracy: 0.7758\n",
            "Epoch 45/100\n",
            "60/60 [==============================] - 1s 23ms/step - loss: 0.4587 - accuracy: 0.7839 - val_loss: 0.4767 - val_accuracy: 0.7670\n",
            "Epoch 46/100\n",
            "60/60 [==============================] - 1s 23ms/step - loss: 0.4582 - accuracy: 0.7857 - val_loss: 0.4707 - val_accuracy: 0.7748\n",
            "Epoch 47/100\n",
            "60/60 [==============================] - 1s 23ms/step - loss: 0.4585 - accuracy: 0.7860 - val_loss: 0.4823 - val_accuracy: 0.7685\n",
            "Epoch 48/100\n",
            "60/60 [==============================] - 1s 24ms/step - loss: 0.4550 - accuracy: 0.7889 - val_loss: 0.4697 - val_accuracy: 0.7740\n",
            "Epoch 49/100\n",
            "60/60 [==============================] - 1s 23ms/step - loss: 0.4570 - accuracy: 0.7857 - val_loss: 0.4709 - val_accuracy: 0.7722\n",
            "Epoch 50/100\n",
            "60/60 [==============================] - 1s 23ms/step - loss: 0.4570 - accuracy: 0.7858 - val_loss: 0.4746 - val_accuracy: 0.7751\n",
            "Epoch 51/100\n",
            "60/60 [==============================] - 1s 23ms/step - loss: 0.4538 - accuracy: 0.7895 - val_loss: 0.4794 - val_accuracy: 0.7693\n",
            "Epoch 52/100\n",
            "60/60 [==============================] - 1s 24ms/step - loss: 0.4573 - accuracy: 0.7857 - val_loss: 0.4671 - val_accuracy: 0.7764\n",
            "Epoch 53/100\n",
            "60/60 [==============================] - 1s 24ms/step - loss: 0.4554 - accuracy: 0.7868 - val_loss: 0.4685 - val_accuracy: 0.7784\n",
            "Epoch 54/100\n",
            "60/60 [==============================] - 1s 23ms/step - loss: 0.4546 - accuracy: 0.7892 - val_loss: 0.4749 - val_accuracy: 0.7751\n",
            "Epoch 55/100\n",
            "60/60 [==============================] - 1s 23ms/step - loss: 0.4569 - accuracy: 0.7874 - val_loss: 0.4764 - val_accuracy: 0.7735\n",
            "Epoch 56/100\n",
            "60/60 [==============================] - 1s 23ms/step - loss: 0.4568 - accuracy: 0.7869 - val_loss: 0.4737 - val_accuracy: 0.7795\n",
            "Epoch 57/100\n",
            "60/60 [==============================] - 1s 23ms/step - loss: 0.4550 - accuracy: 0.7889 - val_loss: 0.4692 - val_accuracy: 0.7787\n",
            "Epoch 58/100\n",
            "60/60 [==============================] - 1s 23ms/step - loss: 0.4566 - accuracy: 0.7854 - val_loss: 0.4756 - val_accuracy: 0.7722\n",
            "Epoch 59/100\n",
            "60/60 [==============================] - 1s 23ms/step - loss: 0.4544 - accuracy: 0.7876 - val_loss: 0.4705 - val_accuracy: 0.7748\n",
            "Epoch 60/100\n",
            "60/60 [==============================] - 1s 23ms/step - loss: 0.4560 - accuracy: 0.7891 - val_loss: 0.4745 - val_accuracy: 0.7711\n",
            "Epoch 61/100\n",
            "60/60 [==============================] - 1s 23ms/step - loss: 0.4575 - accuracy: 0.7833 - val_loss: 0.4704 - val_accuracy: 0.7758\n",
            "Epoch 62/100\n",
            "60/60 [==============================] - 1s 23ms/step - loss: 0.4581 - accuracy: 0.7847 - val_loss: 0.4777 - val_accuracy: 0.7740\n",
            "Epoch 63/100\n",
            "60/60 [==============================] - 1s 23ms/step - loss: 0.4572 - accuracy: 0.7857 - val_loss: 0.4701 - val_accuracy: 0.7774\n",
            "Epoch 64/100\n",
            "60/60 [==============================] - 1s 23ms/step - loss: 0.4560 - accuracy: 0.7862 - val_loss: 0.4740 - val_accuracy: 0.7751\n",
            "Epoch 65/100\n",
            "60/60 [==============================] - 1s 23ms/step - loss: 0.4579 - accuracy: 0.7853 - val_loss: 0.4686 - val_accuracy: 0.7758\n",
            "Epoch 66/100\n",
            "60/60 [==============================] - 1s 22ms/step - loss: 0.4555 - accuracy: 0.7888 - val_loss: 0.4697 - val_accuracy: 0.7745\n",
            "Epoch 67/100\n",
            "60/60 [==============================] - 1s 23ms/step - loss: 0.4555 - accuracy: 0.7881 - val_loss: 0.4777 - val_accuracy: 0.7704\n",
            "Epoch 68/100\n",
            "60/60 [==============================] - 1s 23ms/step - loss: 0.4575 - accuracy: 0.7852 - val_loss: 0.4710 - val_accuracy: 0.7711\n",
            "Epoch 69/100\n",
            "60/60 [==============================] - 1s 23ms/step - loss: 0.4551 - accuracy: 0.7891 - val_loss: 0.4772 - val_accuracy: 0.7722\n",
            "Epoch 70/100\n",
            "60/60 [==============================] - 1s 23ms/step - loss: 0.4531 - accuracy: 0.7881 - val_loss: 0.4747 - val_accuracy: 0.7758\n",
            "Epoch 71/100\n",
            "60/60 [==============================] - 1s 23ms/step - loss: 0.4532 - accuracy: 0.7862 - val_loss: 0.4697 - val_accuracy: 0.7792\n",
            "Epoch 72/100\n",
            "60/60 [==============================] - 1s 23ms/step - loss: 0.4546 - accuracy: 0.7905 - val_loss: 0.4707 - val_accuracy: 0.7771\n",
            "Epoch 73/100\n",
            "60/60 [==============================] - 1s 23ms/step - loss: 0.4586 - accuracy: 0.7847 - val_loss: 0.4699 - val_accuracy: 0.7743\n",
            "Epoch 74/100\n",
            "60/60 [==============================] - 1s 23ms/step - loss: 0.4535 - accuracy: 0.7888 - val_loss: 0.4782 - val_accuracy: 0.7693\n",
            "Epoch 75/100\n",
            "60/60 [==============================] - 1s 23ms/step - loss: 0.4554 - accuracy: 0.7851 - val_loss: 0.4761 - val_accuracy: 0.7732\n",
            "Epoch 76/100\n",
            "60/60 [==============================] - 1s 22ms/step - loss: 0.4561 - accuracy: 0.7870 - val_loss: 0.4748 - val_accuracy: 0.7732\n",
            "Epoch 77/100\n",
            "60/60 [==============================] - 1s 22ms/step - loss: 0.4545 - accuracy: 0.7915 - val_loss: 0.4777 - val_accuracy: 0.7779\n",
            "Epoch 78/100\n",
            "60/60 [==============================] - 1s 23ms/step - loss: 0.4563 - accuracy: 0.7866 - val_loss: 0.4747 - val_accuracy: 0.7753\n",
            "Epoch 79/100\n",
            "60/60 [==============================] - 1s 23ms/step - loss: 0.4567 - accuracy: 0.7870 - val_loss: 0.4715 - val_accuracy: 0.7753\n",
            "Epoch 80/100\n",
            "60/60 [==============================] - 1s 23ms/step - loss: 0.4544 - accuracy: 0.7889 - val_loss: 0.4755 - val_accuracy: 0.7756\n",
            "Epoch 81/100\n",
            "60/60 [==============================] - 1s 23ms/step - loss: 0.4525 - accuracy: 0.7885 - val_loss: 0.4728 - val_accuracy: 0.7737\n",
            "Epoch 82/100\n",
            "60/60 [==============================] - 1s 23ms/step - loss: 0.4573 - accuracy: 0.7858 - val_loss: 0.4811 - val_accuracy: 0.7722\n",
            "Epoch 83/100\n",
            "60/60 [==============================] - 1s 24ms/step - loss: 0.4553 - accuracy: 0.7892 - val_loss: 0.4694 - val_accuracy: 0.7808\n",
            "Epoch 84/100\n",
            "60/60 [==============================] - 1s 23ms/step - loss: 0.4554 - accuracy: 0.7879 - val_loss: 0.4803 - val_accuracy: 0.7667\n",
            "Epoch 85/100\n",
            "60/60 [==============================] - 1s 23ms/step - loss: 0.4544 - accuracy: 0.7869 - val_loss: 0.4791 - val_accuracy: 0.7709\n",
            "Epoch 86/100\n",
            "60/60 [==============================] - 1s 23ms/step - loss: 0.4550 - accuracy: 0.7884 - val_loss: 0.4800 - val_accuracy: 0.7704\n",
            "Epoch 87/100\n",
            "60/60 [==============================] - 1s 23ms/step - loss: 0.4545 - accuracy: 0.7855 - val_loss: 0.4693 - val_accuracy: 0.7784\n",
            "Epoch 88/100\n",
            "60/60 [==============================] - 1s 23ms/step - loss: 0.4552 - accuracy: 0.7886 - val_loss: 0.4710 - val_accuracy: 0.7743\n",
            "Epoch 89/100\n",
            "60/60 [==============================] - 1s 23ms/step - loss: 0.4535 - accuracy: 0.7901 - val_loss: 0.4758 - val_accuracy: 0.7771\n",
            "Epoch 90/100\n",
            "60/60 [==============================] - 1s 22ms/step - loss: 0.4535 - accuracy: 0.7895 - val_loss: 0.4702 - val_accuracy: 0.7771\n",
            "Epoch 91/100\n",
            "60/60 [==============================] - 1s 23ms/step - loss: 0.4555 - accuracy: 0.7876 - val_loss: 0.4703 - val_accuracy: 0.7766\n",
            "Epoch 92/100\n",
            "60/60 [==============================] - 1s 23ms/step - loss: 0.4561 - accuracy: 0.7867 - val_loss: 0.4703 - val_accuracy: 0.7719\n",
            "Epoch 93/100\n",
            "60/60 [==============================] - 1s 23ms/step - loss: 0.4546 - accuracy: 0.7891 - val_loss: 0.4764 - val_accuracy: 0.7769\n",
            "Epoch 94/100\n",
            "60/60 [==============================] - 1s 23ms/step - loss: 0.4548 - accuracy: 0.7868 - val_loss: 0.4730 - val_accuracy: 0.7803\n",
            "Epoch 95/100\n",
            "60/60 [==============================] - 1s 23ms/step - loss: 0.4548 - accuracy: 0.7881 - val_loss: 0.4747 - val_accuracy: 0.7790\n",
            "Epoch 96/100\n",
            "60/60 [==============================] - 1s 23ms/step - loss: 0.4541 - accuracy: 0.7888 - val_loss: 0.4782 - val_accuracy: 0.7730\n",
            "Epoch 97/100\n",
            "60/60 [==============================] - 1s 23ms/step - loss: 0.4524 - accuracy: 0.7895 - val_loss: 0.4782 - val_accuracy: 0.7764\n",
            "Epoch 98/100\n",
            "60/60 [==============================] - 1s 23ms/step - loss: 0.4525 - accuracy: 0.7885 - val_loss: 0.4818 - val_accuracy: 0.7693\n",
            "Epoch 99/100\n",
            "60/60 [==============================] - 1s 23ms/step - loss: 0.4541 - accuracy: 0.7889 - val_loss: 0.4742 - val_accuracy: 0.7766\n",
            "Epoch 100/100\n",
            "60/60 [==============================] - 1s 23ms/step - loss: 0.4542 - accuracy: 0.7876 - val_loss: 0.4799 - val_accuracy: 0.7740\n"
          ],
          "name": "stdout"
        }
      ]
    },
    {
      "cell_type": "code",
      "metadata": {
        "colab": {
          "base_uri": "https://localhost:8080/"
        },
        "id": "RHtHOYfoDcD2",
        "outputId": "4d437b47-4a89-411d-aa7c-49c2fa27556a"
      },
      "source": [
        "from sklearn.svm import SVC\n",
        "print(x_train.shape)\n",
        "svclassifier=SVC(kernel='rbf')\n",
        "model=svclassifier.fit(x_train, y_train)\n",
        "y_pred=model.predict(x_val)\n",
        "print(classification_report(y_val,y_pred))\n",
        "print(model.score(x_train,y_train))\n",
        "print(model.score(x_val,y_val))"
      ],
      "execution_count": 148,
      "outputs": [
        {
          "output_type": "stream",
          "text": [
            "(15326, 36)\n",
            "              precision    recall  f1-score   support\n",
            "\n",
            "         0.0       0.79      0.92      0.85      2843\n",
            "         1.0       0.58      0.31      0.41       989\n",
            "\n",
            "    accuracy                           0.76      3832\n",
            "   macro avg       0.69      0.62      0.63      3832\n",
            "weighted avg       0.74      0.76      0.74      3832\n",
            "\n",
            "0.7921832180608117\n",
            "0.7633089770354906\n"
          ],
          "name": "stdout"
        }
      ]
    },
    {
      "cell_type": "code",
      "metadata": {
        "id": "DP3JoabFOFwt"
      },
      "source": [
        ""
      ],
      "execution_count": null,
      "outputs": []
    }
  ]
}